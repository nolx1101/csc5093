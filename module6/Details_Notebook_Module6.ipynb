{
 "cells": [
  {
   "cell_type": "markdown",
   "id": "0ca5a345-b0b4-4179-b0ac-dc8ef7ff7961",
   "metadata": {},
   "source": [
    "# Introduction\n",
    "This notebook provides a detailed overview of the Firearm Checks Dashboard created in Tableau for Module 6. The dashboard visualizes trends in firearm background check data across time and geography."
   ]
  },
  {
   "cell_type": "markdown",
   "id": "ecb4b4a7-8831-4ace-b454-4f6cb9fc39fb",
   "metadata": {},
   "source": [
    "## Visualizations\n",
    "\n",
    "1. **Trend Line:**\n",
    "   - Displays total firearm background checks over time.\n",
    "   - Includes a secondary line showing YoY Growth (%) to highlight annual trends.\n",
    "\n",
    "2. **Map:**\n",
    "   - A geographic distribution of firearm background checks by state.\n",
    "   - Users can filter the map by year and click on a state to dynamically update the other visualizations.\n",
    "\n",
    "3. **Category Breakdown:**\n",
    "   - Area chart showing the contribution of handgun, long gun, and other categories over time.\n"
   ]
  },
  {
   "cell_type": "markdown",
   "id": "95c81953-9ba3-4c13-8fc1-50852e960e5d",
   "metadata": {},
   "source": [
    "## Dashboard Interactivity\n",
    "\n",
    "The dashboard includes the following interactive features:\n",
    "- **Filters:**\n",
    "  - **Year:** A dropdown filter allows users to select a specific year, updating all visualizations.\n",
    "  - **State:** A dropdown filter allows users to select a specific state, updating all visualizations.\n",
    "- **Map Interaction:** Users can click on a state in the map to dynamically update the trend line and category breakdown visualizations.\n",
    "- **Color:** Color is used to enhance readability and emphasize key insights:\n",
    "  - States with higher firearm background checks are displayed in darker shades on the map.\n"
   ]
  },
  {
   "cell_type": "markdown",
   "id": "1c5fb0c7-e7f3-4958-864c-29fb5d74fec8",
   "metadata": {},
   "source": [
    "## Insights\n",
    "\n",
    "- Year-over-Year Growth shows steady increases in total background checks over most years, with occasional dips.\n",
    "- Geographic distribution highlights regions with consistently high or low background checks.\n",
    "- Handgun checks dominate the category breakdown, but other categories contribute steadily over time.\n"
   ]
  },
  {
   "cell_type": "markdown",
   "id": "f16b6559-c068-49af-b288-5d91c889d2a2",
   "metadata": {},
   "source": [
    "## Conclusion\n",
    "\n",
    "The Firearm Checks Dashboard provides a comprehensive view of firearm background check data, integrating temporal, geographic, and categorical trends. Its interactivity allows users to explore the data by state and year dynamically.\n"
   ]
  }
 ],
 "metadata": {
  "kernelspec": {
   "display_name": "Python 3 (ipykernel)",
   "language": "python",
   "name": "python3"
  },
  "language_info": {
   "codemirror_mode": {
    "name": "ipython",
    "version": 3
   },
   "file_extension": ".py",
   "mimetype": "text/x-python",
   "name": "python",
   "nbconvert_exporter": "python",
   "pygments_lexer": "ipython3",
   "version": "3.13.0"
  }
 },
 "nbformat": 4,
 "nbformat_minor": 5
}
