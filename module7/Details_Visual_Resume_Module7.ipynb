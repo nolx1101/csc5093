{
 "cells": [
  {
   "cell_type": "markdown",
   "id": "bd989cfd-03a4-4fd7-b906-c94313a1d655",
   "metadata": {},
   "source": [
    "# Module 7 - Visual Resume\n",
    "\n",
    "## Overview\n",
    "This module focuses on creating a **visual resume** using Tableau. The resume combines visualizations to showcase education, skills, job locations, and hobbies interactively.\n",
    "\n",
    "## Visualizations\n",
    "### 1. Education Timeline (Gantt Chart)\n",
    "- Displays milestones in education over time.\n",
    "- Shows institutions attended, degrees obtained, and timeline information.\n",
    "\n",
    "### 2. Skills Proficiency (Bar Chart)\n",
    "- Highlights proficiency levels for technical and soft skills.\n",
    "- Example skills: Python (90%), Tableau (85%).\n",
    "\n",
    "### 3. Job Locations (Map)\n",
    "- Maps job experiences with roles, companies, and timelines.\n",
    "- Example: Full-Stack Developer at At One Studio (Kosovo, 2015-2017).\n",
    "\n",
    "### 4. Hobbies (Bubble Chart)\n",
    "- Visualizes hobbies with corresponding time spent.\n",
    "- Bubble sizes represent the time spent (in years) on hobbies like Swimming, Coding, and Reading.\n",
    "\n",
    "---\n",
    "\n",
    "## Data Sources\n",
    "The data for the visual resume is stored in `Resume.xlsx`, with the following sheets:\n",
    "\n",
    "1. **Education**: Used for the Gantt chart.\n",
    "2. **Skills**: Used for the bar chart.\n",
    "3. **Jobs**: Used for the map.\n",
    "4. **Hobbies**: Used for the bubble chart.\n",
    "\n",
    "---\n",
    "\n",
    "## Key Files\n",
    "- **Visual_Resume.twbx**: Tableau workbook with visualizations.\n",
    "- **Resume.xlsx**: Source data for education, skills, job locations, and hobbies.\n",
    "\n",
    "## Steps to Run\n",
    "1. Open `Visual_Resume.twbx` in Tableau.\n",
    "2. Modify data in `Resume.xlsx` and refresh Tableau to see updates.\n",
    "3. Explore the dashboard interactively.\n",
    "\n",
    "---\n",
    "\n",
    "## Conclusion\n",
    "This module demonstrates how Tableau can be used for professional storytelling, combining multiple data sets into a cohesive visual resume.\n"
   ]
  }
 ],
 "metadata": {
  "kernelspec": {
   "display_name": "Python 3 (ipykernel)",
   "language": "python",
   "name": "python3"
  },
  "language_info": {
   "codemirror_mode": {
    "name": "ipython",
    "version": 3
   },
   "file_extension": ".py",
   "mimetype": "text/x-python",
   "name": "python",
   "nbconvert_exporter": "python",
   "pygments_lexer": "ipython3",
   "version": "3.13.0"
  }
 },
 "nbformat": 4,
 "nbformat_minor": 5
}
